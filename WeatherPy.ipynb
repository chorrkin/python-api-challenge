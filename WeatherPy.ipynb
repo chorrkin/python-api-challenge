{
 "cells": [
  {
   "cell_type": "markdown",
   "metadata": {},
   "source": [
    "# WeatherPy\n",
    "\n",
    "---\n",
    "\n",
    "## Starter Code to Generate Random Geographic Coordinates and a List of Cities"
   ]
  },
  {
   "cell_type": "code",
   "execution_count": null,
   "metadata": {
    "scrolled": true
   },
   "outputs": [
    {
     "name": "stdout",
     "output_type": "stream",
     "text": [
      "Requirement already satisfied: citipy in /opt/anaconda3/lib/python3.12/site-packages (0.0.6)\n",
      "Requirement already satisfied: kdtree>=0.12 in /opt/anaconda3/lib/python3.12/site-packages (from citipy) (0.16)\n"
     ]
    }
   ],
   "source": [
    "# Dependencies and Setup\n",
    "import matplotlib.pyplot as plt\n",
    "import pandas as pd\n",
    "import numpy as np\n",
    "import requests\n",
    "import time\n",
    "from scipy.stats import linregress\n",
    "\n",
    "# Install citipy (only needs to be done once, you can comment it out later if unnecessary)\n",
    "!pip install citipy\n",
    "\n",
    "# Import the OpenWeatherMap API key\n",
    "from api_keys import weather_api_key\n",
    "\n",
    "# Import citipy to determine the cities based on latitude and longitude\n",
    "from citipy import citipy\n"
   ]
  },
  {
   "cell_type": "markdown",
   "metadata": {},
   "source": [
    "### Generate the Cities List by Using the `citipy` Library"
   ]
  },
  {
   "cell_type": "code",
   "execution_count": null,
   "metadata": {},
   "outputs": [
    {
     "name": "stdout",
     "output_type": "stream",
     "text": [
      "Number of cities in the list: 596\n"
     ]
    }
   ],
   "source": [
    "# Empty list for holding the latitude and longitude combinations\n",
    "lat_lngs = []\n",
    "\n",
    "# Empty list for holding the cities names\n",
    "cities = []\n",
    "\n",
    "# Range of latitudes and longitudes\n",
    "lat_range = (-90, 90)\n",
    "lng_range = (-180, 180)\n",
    "\n",
    "# Create a set of random lat and lng combinations\n",
    "lats = np.random.uniform(lat_range[0], lat_range[1], size=1500)\n",
    "lngs = np.random.uniform(lng_range[0], lng_range[1], size=1500)\n",
    "lat_lngs = zip(lats, lngs)\n",
    "\n",
    "# Identify nearest city for each lat, lng combination\n",
    "for lat_lng in lat_lngs:\n",
    "    city = citipy.nearest_city(lat_lng[0], lat_lng[1]).city_name\n",
    "\n",
    "    # If the city is unique, then add it to a our cities list\n",
    "    if city not in cities:\n",
    "        cities.append(city)\n",
    "\n",
    "# Print the city count to confirm sufficient count\n",
    "print(f\"Number of cities in the list: {len(cities)}\")"
   ]
  },
  {
   "cell_type": "markdown",
   "metadata": {},
   "source": [
    "---"
   ]
  },
  {
   "cell_type": "markdown",
   "metadata": {},
   "source": [
    "## Requirement 1: Create Plots to Showcase the Relationship Between Weather Variables and Latitude\n",
    "\n",
    "### Use the OpenWeatherMap API to retrieve weather data from the cities list generated in the started code"
   ]
  },
  {
   "cell_type": "code",
   "execution_count": null,
   "metadata": {},
   "outputs": [
    {
     "name": "stdout",
     "output_type": "stream",
     "text": [
      "Beginning Data Retrieval\n",
      "-----------------------------\n",
      "Processing Record 1 of Set 1 | buturlino\n",
      "Processing Record 2 of Set 1 | olonkinbyen\n",
      "Processing Record 3 of Set 1 | adamstown\n",
      "Processing Record 4 of Set 1 | khor\n",
      "Processing Record 5 of Set 1 | arraial do cabo\n",
      "Processing Record 6 of Set 1 | hamilton\n",
      "Processing Record 7 of Set 1 | wailua homesteads\n",
      "Processing Record 8 of Set 1 | callao\n",
      "Processing Record 9 of Set 1 | grytviken\n",
      "Processing Record 10 of Set 1 | quatre cocos\n",
      "Processing Record 11 of Set 1 | bethel\n",
      "Processing Record 12 of Set 1 | lihue\n",
      "Processing Record 13 of Set 1 | tranovaho\n",
      "City not found. Skipping...\n",
      "Processing Record 14 of Set 1 | ribeira grande\n",
      "Processing Record 15 of Set 1 | nema\n",
      "Processing Record 16 of Set 1 | blackmans bay\n",
      "Processing Record 17 of Set 1 | minas de marcona\n",
      "Processing Record 18 of Set 1 | lebu\n",
      "Processing Record 19 of Set 1 | rach gia\n",
      "Processing Record 20 of Set 1 | chyorny yar\n",
      "Processing Record 21 of Set 1 | puerto natales\n",
      "Processing Record 22 of Set 1 | we\n",
      "City not found. Skipping...\n",
      "Processing Record 23 of Set 1 | sitka\n",
      "Processing Record 24 of Set 1 | chonchi\n",
      "Processing Record 25 of Set 1 | georgetown\n",
      "Processing Record 26 of Set 1 | hermanus\n",
      "Processing Record 27 of Set 1 | paka\n",
      "Processing Record 28 of Set 1 | petropavlovsk-kamchatsky\n",
      "Processing Record 29 of Set 1 | lata\n",
      "Processing Record 30 of Set 1 | padang\n",
      "Processing Record 31 of Set 1 | kununurra\n",
      "Processing Record 32 of Set 1 | isafjordur\n"
     ]
    }
   ],
   "source": [
    "# Set the API base URL\n",
    "url = \"http://api.openweathermap.org/data/2.5/weather\"\n",
    "\n",
    "# Define an empty list to fetch the weather data for each city\n",
    "city_data = []\n",
    "\n",
    "# Print to logger\n",
    "print(\"Beginning Data Retrieval\")\n",
    "print(\"-----------------------------\")\n",
    "\n",
    "# Create counters\n",
    "record_count = 1\n",
    "set_count = 1\n",
    "\n",
    "# Loop through all the cities in our list to fetch weather data\n",
    "for i, city in enumerate(cities):\n",
    "\n",
    "    # Group cities in sets of 50 for logging purposes\n",
    "    if (i % 50 == 0 and i >= 50):\n",
    "        set_count += 1\n",
    "        record_count = 0\n",
    "\n",
    "    # Create endpoint URL with each city\n",
    "    city_url = f\"{url}?q={city}&units=metric&appid={weather_api_key}\"\n",
    "\n",
    "    # Log the url, record, and set numbers\n",
    "    print(f\"Processing Record {record_count} of Set {set_count} | {city}\")\n",
    "\n",
    "    # Add 1 to the record count\n",
    "    record_count += 1\n",
    "\n",
    "    # Run an API request for each of the cities\n",
    "    try:\n",
    "        # Make a request to the OpenWeatherMap API\n",
    "        response = requests.get(city_url)\n",
    "        city_weather = response.json()\n",
    "\n",
    "        # Parse out latitude, longitude, max temp, humidity, cloudiness, wind speed, country, and date\n",
    "        city_lat = city_weather[\"coord\"][\"lat\"]\n",
    "        city_lng = city_weather[\"coord\"][\"lon\"]\n",
    "        city_max_temp = city_weather[\"main\"][\"temp_max\"]\n",
    "        city_humidity = city_weather[\"main\"][\"humidity\"]\n",
    "        city_clouds = city_weather[\"clouds\"][\"all\"]\n",
    "        city_wind = city_weather[\"wind\"][\"speed\"]\n",
    "        city_country = city_weather[\"sys\"][\"country\"]\n",
    "        city_date = city_weather[\"dt\"]\n",
    "\n",
    "        # Append the City information into the city_data list\n",
    "        city_data.append({\"City\": city,\n",
    "                          \"Lat\": city_lat,\n",
    "                          \"Lng\": city_lng,\n",
    "                          \"Max Temp\": city_max_temp,\n",
    "                          \"Humidity\": city_humidity,\n",
    "                          \"Cloudiness\": city_clouds,\n",
    "                          \"Wind Speed\": city_wind,\n",
    "                          \"Country\": city_country,\n",
    "                          \"Date\": city_date})\n",
    "\n",
    "    # If an error is experienced, skip the city\n",
    "    except:\n",
    "        print(\"City not found. Skipping...\")\n",
    "        pass\n",
    "\n",
    "    # Pause to avoid rate limiting\n",
    "    time.sleep(1)\n",
    "\n",
    "# Indicate that Data Loading is complete\n",
    "print(\"-----------------------------\")\n",
    "print(\"Data Retrieval Complete\")\n",
    "print(\"-----------------------------\")\n"
   ]
  },
  {
   "cell_type": "code",
   "execution_count": null,
   "metadata": {},
   "outputs": [],
   "source": [
    "# Convert the cities weather data into a Pandas DataFrame\n",
    "city_data_df = pd.DataFrame(city_data)\n",
    "\n",
    "# Show Record Count\n",
    "city_data_df.count()\n"
   ]
  },
  {
   "cell_type": "code",
   "execution_count": null,
   "metadata": {},
   "outputs": [],
   "source": [
    "# Display sample data\n",
    "city_data_df.head()"
   ]
  },
  {
   "cell_type": "code",
   "execution_count": null,
   "metadata": {},
   "outputs": [],
   "source": [
    "# Export the City_Data into a csv\n",
    "city_data_df.to_csv(\"output_data/cities.csv\", index_label=\"City_ID\")"
   ]
  },
  {
   "cell_type": "code",
   "execution_count": null,
   "metadata": {},
   "outputs": [],
   "source": [
    "# Read saved data\n",
    "city_data_df = pd.read_csv(\"output_data/cities.csv\", index_col=\"City_ID\")\n",
    "\n",
    "# Display sample data\n",
    "city_data_df.head()"
   ]
  },
  {
   "cell_type": "markdown",
   "metadata": {},
   "source": [
    "### Create the Scatter Plots Requested\n",
    "\n",
    "#### Latitude Vs. Temperature"
   ]
  },
  {
   "cell_type": "code",
   "execution_count": null,
   "metadata": {
    "tags": []
   },
   "outputs": [],
   "source": [
    "# Build scatter plot for latitude vs. temperature\n",
    "plt.scatter(city_data_df[\"Lat\"], city_data_df[\"Max Temp\"], edgecolor=\"black\", alpha=0.75)\n",
    "\n",
    "# Incorporate the other graph properties\n",
    "plt.title(\"City Latitude vs. Max Temperature (°C)\")\n",
    "plt.xlabel(\"Latitude\")\n",
    "plt.ylabel(\"Max Temperature (°C)\")\n",
    "plt.grid(True)\n",
    "\n",
    "# Save the figure\n",
    "plt.savefig(\"output_data/Fig1.png\")\n",
    "\n",
    "# Show plot\n",
    "plt.show()\n"
   ]
  },
  {
   "cell_type": "markdown",
   "metadata": {},
   "source": [
    "#### Latitude Vs. Humidity"
   ]
  },
  {
   "cell_type": "code",
   "execution_count": null,
   "metadata": {},
   "outputs": [],
   "source": [
    "# Build the scatter plots for latitude vs. humidity\n",
    "plt.scatter(city_data_df[\"Lat\"], city_data_df[\"Humidity\"], edgecolor=\"black\", alpha=0.75)\n",
    "\n",
    "# Incorporate the other graph properties\n",
    "plt.title(\"City Latitude vs. Humidity (%)\")\n",
    "plt.xlabel(\"Latitude\")\n",
    "plt.ylabel(\"Humidity (%)\")\n",
    "plt.grid(True)\n",
    "\n",
    "# Save the figure\n",
    "plt.savefig(\"output_data/Fig2.png\")\n",
    "\n",
    "# Show plot\n",
    "plt.show()\n"
   ]
  },
  {
   "cell_type": "markdown",
   "metadata": {},
   "source": [
    "#### Latitude Vs. Cloudiness"
   ]
  },
  {
   "cell_type": "code",
   "execution_count": null,
   "metadata": {},
   "outputs": [],
   "source": [
    "# Build the scatter plots for latitude vs. cloudiness\n",
    "plt.scatter(city_data_df[\"Lat\"], city_data_df[\"Cloudiness\"], edgecolor=\"black\", alpha=0.75)\n",
    "\n",
    "# Incorporate the other graph properties\n",
    "plt.title(\"City Latitude vs. Cloudiness (%)\")\n",
    "plt.xlabel(\"Latitude\")\n",
    "plt.ylabel(\"Cloudiness (%)\")\n",
    "plt.grid(True)\n",
    "\n",
    "# Save the figure\n",
    "plt.savefig(\"output_data/Fig3.png\")\n",
    "\n",
    "# Show plot\n",
    "plt.show()\n"
   ]
  },
  {
   "cell_type": "markdown",
   "metadata": {},
   "source": [
    "#### Latitude vs. Wind Speed Plot"
   ]
  },
  {
   "cell_type": "code",
   "execution_count": null,
   "metadata": {},
   "outputs": [],
   "source": [
    "# Build the scatter plot for latitude vs. wind speed\n",
    "plt.scatter(city_data_df[\"Lat\"], city_data_df[\"Wind Speed\"], edgecolor=\"black\", alpha=0.75)\n",
    "\n",
    "# Incorporate the other graph properties\n",
    "plt.title(\"City Latitude vs. Wind Speed (m/s)\")\n",
    "plt.xlabel(\"Latitude\")\n",
    "plt.ylabel(\"Wind Speed (m/s)\")\n",
    "plt.grid(True)\n",
    "\n",
    "# Save the figure\n",
    "plt.savefig(\"output_data/Fig4.png\")\n",
    "\n",
    "# Show plot\n",
    "plt.show()\n"
   ]
  },
  {
   "cell_type": "markdown",
   "metadata": {},
   "source": [
    "---\n",
    "\n",
    "## Requirement 2: Compute Linear Regression for Each Relationship\n"
   ]
  },
  {
   "cell_type": "code",
   "execution_count": null,
   "metadata": {},
   "outputs": [],
   "source": [
    "# Perform linear regression\n",
    "(slope, intercept, rvalue, pvalue, stderr) = linregress(city_data_df[\"Lat\"], city_data_df[\"Max Temp\"])\n",
    "\n",
    "# Calculate regression line values\n",
    "regress_values = city_data_df[\"Lat\"] * slope + intercept\n",
    "\n",
    "# Create scatter plot for latitude vs. temperature\n",
    "plt.scatter(city_data_df[\"Lat\"], city_data_df[\"Max Temp\"], edgecolor=\"black\", alpha=0.75)\n",
    "\n",
    "# Plot the regression line\n",
    "plt.plot(city_data_df[\"Lat\"], regress_values, \"r\")\n",
    "\n",
    "# Add labels and title\n",
    "plt.title(\"City Latitude vs. Max Temperature (°C)\")\n",
    "plt.xlabel(\"Latitude\")\n",
    "plt.ylabel(\"Max Temperature (°C)\")\n",
    "\n",
    "# Annotate the line equation on the plot\n",
    "plt.annotate(f\"y = {slope:.2f}x + {intercept:.2f}\", (10, -20), fontsize=12, color=\"red\")\n",
    "\n",
    "# Show grid and plot\n",
    "plt.grid(True)\n",
    "plt.show()\n",
    "\n",
    "# Print r-squared value\n",
    "print(f\"r-squared: {rvalue**2:.2f}\")\n"
   ]
  },
  {
   "cell_type": "code",
   "execution_count": null,
   "metadata": {},
   "outputs": [],
   "source": [
    "# Create a DataFrame with the Northern Hemisphere data (Latitude >= 0)\n",
    "northern_hemi_df = city_data_df[city_data_df[\"Lat\"] >= 0]\n",
    "\n",
    "# Display sample data\n",
    "northern_hemi_df.head()\n"
   ]
  },
  {
   "cell_type": "code",
   "execution_count": null,
   "metadata": {},
   "outputs": [],
   "source": [
    "# Create a DataFrame with the Southern Hemisphere data (Latitude < 0)\n",
    "southern_hemi_df = city_data_df[city_data_df[\"Lat\"] < 0]\n",
    "\n",
    "# Display sample data\n",
    "southern_hemi_df.head()\n"
   ]
  },
  {
   "cell_type": "markdown",
   "metadata": {},
   "source": [
    "###  Temperature vs. Latitude Linear Regression Plot"
   ]
  },
  {
   "cell_type": "code",
   "execution_count": null,
   "metadata": {},
   "outputs": [],
   "source": [
    "# Perform linear regression on Northern Hemisphere - Latitude vs. Max Temperature\n",
    "(slope, intercept, rvalue, pvalue, stderr) = linregress(northern_hemi_df[\"Lat\"], northern_hemi_df[\"Max Temp\"])\n",
    "\n",
    "# Calculate regression line values\n",
    "regress_values = northern_hemi_df[\"Lat\"] * slope + intercept\n",
    "\n",
    "# Create scatter plot with regression line\n",
    "plt.scatter(northern_hemi_df[\"Lat\"], northern_hemi_df[\"Max Temp\"], edgecolor=\"black\", alpha=0.75)\n",
    "plt.plot(northern_hemi_df[\"Lat\"], regress_values, \"r\")\n",
    "\n",
    "# Incorporate graph properties\n",
    "plt.title(\"Northern Hemisphere - Latitude vs. Max Temperature\")\n",
    "plt.xlabel(\"Latitude\")\n",
    "plt.ylabel(\"Max Temperature (°C)\")\n",
    "\n",
    "# Annotate the line equation on the plot\n",
    "plt.annotate(f\"y = {slope:.2f}x + {intercept:.2f}\", (10, -20), fontsize=12, color=\"red\")\n",
    "\n",
    "# Show grid and plot\n",
    "plt.grid(True)\n",
    "plt.show()\n",
    "\n",
    "# Print r-squared value\n",
    "print(f\"r-squared: {rvalue**2:.2f}\")\n"
   ]
  },
  {
   "cell_type": "code",
   "execution_count": null,
   "metadata": {},
   "outputs": [],
   "source": [
    "# Perform linear regression on Southern Hemisphere - Latitude vs. Max Temperature\n",
    "(slope, intercept, rvalue, pvalue, stderr) = linregress(southern_hemi_df[\"Lat\"], southern_hemi_df[\"Max Temp\"])\n",
    "\n",
    "# Calculate regression line values\n",
    "regress_values = southern_hemi_df[\"Lat\"] * slope + intercept\n",
    "\n",
    "# Create scatter plot with regression line\n",
    "plt.scatter(southern_hemi_df[\"Lat\"], southern_hemi_df[\"Max Temp\"], edgecolor=\"black\", alpha=0.75)\n",
    "plt.plot(southern_hemi_df[\"Lat\"], regress_values, \"r\")\n",
    "\n",
    "# Incorporate graph properties\n",
    "plt.title(\"Southern Hemisphere - Latitude vs. Max Temperature\")\n",
    "plt.xlabel(\"Latitude\")\n",
    "plt.ylabel(\"Max Temperature (°C)\")\n",
    "\n",
    "# Annotate the line equation on the plot\n",
    "plt.annotate(f\"y = {slope:.2f}x + {intercept:.2f}\", (-50, 30), fontsize=12, color=\"red\")\n",
    "\n",
    "# Show grid and plot\n",
    "plt.grid(True)\n",
    "plt.show()\n",
    "\n",
    "# Print r-squared value\n",
    "print(f\"r-squared: {rvalue**2:.2f}\")\n"
   ]
  },
  {
   "cell_type": "markdown",
   "metadata": {},
   "source": [
    "**Discussion about the linear relationship:** YOUR RESPONSE HERE"
   ]
  },
  {
   "cell_type": "markdown",
   "metadata": {},
   "source": [
    "### Humidity vs. Latitude Linear Regression Plot"
   ]
  },
  {
   "cell_type": "code",
   "execution_count": null,
   "metadata": {},
   "outputs": [],
   "source": [
    "# Northern Hemisphere - Latitude vs. Humidity\n",
    "\n",
    "# Perform linear regression on Northern Hemisphere - Latitude vs. Humidity\n",
    "(slope, intercept, rvalue, pvalue, stderr) = linregress(northern_hemi_df[\"Lat\"], northern_hemi_df[\"Humidity\"])\n",
    "\n",
    "# Calculate regression line values\n",
    "regress_values = northern_hemi_df[\"Lat\"] * slope + intercept\n",
    "\n",
    "# Create scatter plot with regression line\n",
    "plt.scatter(northern_hemi_df[\"Lat\"], northern_hemi_df[\"Humidity\"], edgecolor=\"black\", alpha=0.75)\n",
    "plt.plot(northern_hemi_df[\"Lat\"], regress_values, \"r\")\n",
    "\n",
    "# Incorporate graph properties\n",
    "plt.title(\"Northern Hemisphere - Latitude vs. Humidity (%)\")\n",
    "plt.xlabel(\"Latitude\")\n",
    "plt.ylabel(\"Humidity (%)\")\n",
    "\n",
    "# Annotate the line equation on the plot\n",
    "plt.annotate(f\"y = {slope:.2f}x + {intercept:.2f}\", (10, 20), fontsize=12, color=\"red\")\n",
    "\n",
    "# Show grid and plot\n",
    "plt.grid(True)\n",
    "plt.show()\n",
    "\n",
    "# Print r-squared value\n",
    "print(f\"r-squared: {rvalue**2:.2f}\")\n"
   ]
  },
  {
   "cell_type": "code",
   "execution_count": null,
   "metadata": {},
   "outputs": [],
   "source": [
    "#Southern Hemisphere - Latitude vs. Humidity\n",
    "\n",
    "# Perform linear regression on Southern Hemisphere - Latitude vs. Humidity\n",
    "(slope, intercept, rvalue, pvalue, stderr) = linregress(southern_hemi_df[\"Lat\"], southern_hemi_df[\"Humidity\"])\n",
    "\n",
    "# Calculate regression line values\n",
    "regress_values = southern_hemi_df[\"Lat\"] * slope + intercept\n",
    "\n",
    "# Create scatter plot with regression line\n",
    "plt.scatter(southern_hemi_df[\"Lat\"], southern_hemi_df[\"Humidity\"], edgecolor=\"black\", alpha=0.75)\n",
    "plt.plot(southern_hemi_df[\"Lat\"], regress_values, \"r\")\n",
    "\n",
    "# Incorporate graph properties\n",
    "plt.title(\"Southern Hemisphere - Latitude vs. Humidity (%)\")\n",
    "plt.xlabel(\"Latitude\")\n",
    "plt.ylabel(\"Humidity (%)\")\n",
    "\n",
    "# Annotate the line equation on the plot\n",
    "plt.annotate(f\"y = {slope:.2f}x + {intercept:.2f}\", (-55, 20), fontsize=12, color=\"red\")\n",
    "\n",
    "# Show grid and plot\n",
    "plt.grid(True)\n",
    "plt.show()\n",
    "\n",
    "# Print r-squared value\n",
    "print(f\"r-squared: {rvalue**2:.2f}\")\n"
   ]
  },
  {
   "cell_type": "markdown",
   "metadata": {},
   "source": [
    "**Discussion about the linear relationship:** YOUR RESPONSE HERE"
   ]
  },
  {
   "cell_type": "markdown",
   "metadata": {},
   "source": [
    "### Cloudiness vs. Latitude Linear Regression Plot"
   ]
  },
  {
   "cell_type": "code",
   "execution_count": null,
   "metadata": {},
   "outputs": [],
   "source": [
    "# Northern Hemisphere - Latitude vs. Cloudiness\n",
    "\n",
    "# Perform linear regression on Northern Hemisphere - Latitude vs. Cloudiness\n",
    "(slope, intercept, rvalue, pvalue, stderr) = linregress(northern_hemi_df[\"Lat\"], northern_hemi_df[\"Cloudiness\"])\n",
    "\n",
    "# Calculate regression line values\n",
    "regress_values = northern_hemi_df[\"Lat\"] * slope + intercept\n",
    "\n",
    "# Create scatter plot with regression line\n",
    "plt.scatter(northern_hemi_df[\"Lat\"], northern_hemi_df[\"Cloudiness\"], edgecolor=\"black\", alpha=0.75)\n",
    "plt.plot(northern_hemi_df[\"Lat\"], regress_values, \"r\")\n",
    "\n",
    "# Incorporate graph properties\n",
    "plt.title(\"Northern Hemisphere - Latitude vs. Cloudiness (%)\")\n",
    "plt.xlabel(\"Latitude\")\n",
    "plt.ylabel(\"Cloudiness (%)\")\n",
    "\n",
    "# Annotate the line equation on the plot\n",
    "plt.annotate(f\"y = {slope:.2f}x + {intercept:.2f}\", (40, 30), fontsize=12, color=\"red\")\n",
    "\n",
    "# Show grid and plot\n",
    "plt.grid(True)\n",
    "plt.show()\n",
    "\n",
    "# Print r-squared value\n",
    "print(f\"r-squared: {rvalue**2:.2f}\")\n"
   ]
  },
  {
   "cell_type": "code",
   "execution_count": null,
   "metadata": {},
   "outputs": [],
   "source": [
    "# Southern Hemisphere - Latitude vs. Cloudiness\n",
    "\n",
    "# Perform linear regression on Southern Hemisphere - Latitude vs. Cloudiness\n",
    "(slope, intercept, rvalue, pvalue, stderr) = linregress(southern_hemi_df[\"Lat\"], southern_hemi_df[\"Cloudiness\"])\n",
    "\n",
    "# Calculate regression line values\n",
    "regress_values = southern_hemi_df[\"Lat\"] * slope + intercept\n",
    "\n",
    "# Create scatter plot with regression line\n",
    "plt.scatter(southern_hemi_df[\"Lat\"], southern_hemi_df[\"Cloudiness\"], edgecolor=\"black\", alpha=0.75)\n",
    "plt.plot(southern_hemi_df[\"Lat\"], regress_values, \"r\")\n",
    "\n",
    "# Incorporate graph properties\n",
    "plt.title(\"Southern Hemisphere - Latitude vs. Cloudiness (%)\")\n",
    "plt.xlabel(\"Latitude\")\n",
    "plt.ylabel(\"Cloudiness (%)\")\n",
    "\n",
    "# Annotate the line equation on the plot\n",
    "plt.annotate(f\"y = {slope:.2f}x + {intercept:.2f}\", (-55, 40), fontsize=12, color=\"red\")\n",
    "\n",
    "# Show grid and plot\n",
    "plt.grid(True)\n",
    "plt.show()\n",
    "\n",
    "# Print r-squared value\n",
    "print(f\"r-squared: {rvalue**2:.2f}\")\n"
   ]
  },
  {
   "cell_type": "markdown",
   "metadata": {},
   "source": [
    "**Discussion about the linear relationship:** YOUR RESPONSE HERE"
   ]
  },
  {
   "cell_type": "markdown",
   "metadata": {},
   "source": [
    "### Wind Speed vs. Latitude Linear Regression Plot"
   ]
  },
  {
   "cell_type": "code",
   "execution_count": null,
   "metadata": {},
   "outputs": [],
   "source": [
    "# Northern Hemisphere - Latitude vs. Wind Speed\n",
    "\n",
    "# Perform linear regression on Northern Hemisphere - Latitude vs. Wind Speed\n",
    "(slope, intercept, rvalue, pvalue, stderr) = linregress(northern_hemi_df[\"Lat\"], northern_hemi_df[\"Wind Speed\"])\n",
    "\n",
    "# Calculate regression line values\n",
    "regress_values = northern_hemi_df[\"Lat\"] * slope + intercept\n",
    "\n",
    "# Create scatter plot with regression line\n",
    "plt.scatter(northern_hemi_df[\"Lat\"], northern_hemi_df[\"Wind Speed\"], edgecolor=\"black\", alpha=0.75)\n",
    "plt.plot(northern_hemi_df[\"Lat\"], regress_values, \"r\")\n",
    "\n",
    "# Incorporate graph properties\n",
    "plt.title(\"Northern Hemisphere - Latitude vs. Wind Speed (m/s)\")\n",
    "plt.xlabel(\"Latitude\")\n",
    "plt.ylabel(\"Wind Speed (m/s)\")\n",
    "\n",
    "# Annotate the line equation on the plot\n",
    "plt.annotate(f\"y = {slope:.2f}x + {intercept:.2f}\", (40, 10), fontsize=12, color=\"red\")\n",
    "\n",
    "# Show grid and plot\n",
    "plt.grid(True)\n",
    "plt.show()\n",
    "\n",
    "# Print r-squared value\n",
    "print(f\"r-squared: {rvalue**2:.2f}\")\n"
   ]
  },
  {
   "cell_type": "code",
   "execution_count": null,
   "metadata": {},
   "outputs": [],
   "source": [
    "# Southern Hemisphere - Latitude vs. Wind Speed\n",
    "\n",
    "# Perform linear regression on Southern Hemisphere - Latitude vs. Wind Speed\n",
    "(slope, intercept, rvalue, pvalue, stderr) = linregress(southern_hemi_df[\"Lat\"], southern_hemi_df[\"Wind Speed\"])\n",
    "\n",
    "# Calculate regression line values\n",
    "regress_values = southern_hemi_df[\"Lat\"] * slope + intercept\n",
    "\n",
    "# Create scatter plot with regression line\n",
    "plt.scatter(southern_hemi_df[\"Lat\"], southern_hemi_df[\"Wind Speed\"], edgecolor=\"black\", alpha=0.75)\n",
    "plt.plot(southern_hemi_df[\"Lat\"], regress_values, \"r\")\n",
    "\n",
    "# Incorporate graph properties\n",
    "plt.title(\"Southern Hemisphere - Latitude vs. Wind Speed (m/s)\")\n",
    "plt.xlabel(\"Latitude\")\n",
    "plt.ylabel(\"Wind Speed (m/s)\")\n",
    "\n",
    "# Annotate the line equation on the plot\n",
    "plt.annotate(f\"y = {slope:.2f}x + {intercept:.2f}\", (-50, 10), fontsize=12, color=\"red\")\n",
    "\n",
    "# Show grid and plot\n",
    "plt.grid(True)\n",
    "plt.show()\n",
    "\n",
    "# Print r-squared value\n",
    "print(f\"r-squared: {rvalue**2:.2f}\")\n"
   ]
  },
  {
   "cell_type": "markdown",
   "metadata": {},
   "source": [
    "**Discussion about the linear relationship:** YOUR RESPONSE HERE"
   ]
  },
  {
   "cell_type": "code",
   "execution_count": null,
   "metadata": {},
   "outputs": [],
   "source": []
  }
 ],
 "metadata": {
  "anaconda-cloud": {},
  "kernel_info": {
   "name": "python3"
  },
  "kernelspec": {
   "display_name": "Python 3 (ipykernel)",
   "language": "python",
   "name": "python3"
  },
  "language_info": {
   "codemirror_mode": {
    "name": "ipython",
    "version": 3
   },
   "file_extension": ".py",
   "mimetype": "text/x-python",
   "name": "python",
   "nbconvert_exporter": "python",
   "pygments_lexer": "ipython3",
   "version": "3.12.7"
  },
  "latex_envs": {
   "LaTeX_envs_menu_present": true,
   "autoclose": false,
   "autocomplete": true,
   "bibliofile": "biblio.bib",
   "cite_by": "apalike",
   "current_citInitial": 1,
   "eqLabelWithNumbers": true,
   "eqNumInitial": 1,
   "hotkeys": {
    "equation": "Ctrl-E",
    "itemize": "Ctrl-I"
   },
   "labels_anchors": false,
   "latex_user_defs": false,
   "report_style_numbering": false,
   "user_envs_cfg": false
  },
  "nteract": {
   "version": "0.12.3"
  }
 },
 "nbformat": 4,
 "nbformat_minor": 4
}
